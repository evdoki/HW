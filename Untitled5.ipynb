{
 "cells": [
  {
   "cell_type": "code",
   "execution_count": 11,
   "metadata": {},
   "outputs": [
    {
     "data": {
      "text/plain": [
       "datetime.datetime(2017, 5, 9, 9, 0)"
      ]
     },
     "execution_count": 11,
     "metadata": {},
     "output_type": "execute_result"
    }
   ],
   "source": [
    "from datetime import datetime, timedelta\n",
    "dat_str='May 9 2017 9:00AM'\n",
    "s=datetime.strptime(dat_str, '%B %d %Y %I:%M%p')\n",
    "s"
   ]
  },
  {
   "cell_type": "code",
   "execution_count": 10,
   "metadata": {},
   "outputs": [
    {
     "data": {
      "text/plain": [
       "datetime.datetime(2017, 5, 9, 10, 0)"
      ]
     },
     "execution_count": 10,
     "metadata": {},
     "output_type": "execute_result"
    }
   ],
   "source": [
    "s+=timedelta(hours=1)\n",
    "s"
   ]
  },
  {
   "cell_type": "code",
   "execution_count": 13,
   "metadata": {},
   "outputs": [
    {
     "data": {
      "text/plain": [
       "'2017-05-09'"
      ]
     },
     "execution_count": 13,
     "metadata": {},
     "output_type": "execute_result"
    }
   ],
   "source": [
    "s.strftime('%Y-%m-%d')"
   ]
  },
  {
   "cell_type": "code",
   "execution_count": 18,
   "metadata": {},
   "outputs": [
    {
     "data": {
      "text/plain": [
       "'2020-01-03 00:00:00'"
      ]
     },
     "execution_count": 18,
     "metadata": {},
     "output_type": "execute_result"
    }
   ],
   "source": [
    "startDate = '2020-01-01'\n",
    "endDate = '2020-01-03'\n",
    "startDate_datetime = datetime.strptime(startDate, '%Y-%m-%d')\n",
    "endDate_datetime = datetime.strptime(endDate, '%Y-%m-%d')\n",
    "current_day = startDate_datetime\n",
    "while current_day < endDate_datetime:\n",
    "    current_day += timedelta(hours=1)\n",
    "current_day.strftime('%Y-%m-%d %H:%M:%S')"
   ]
  },
  {
   "cell_type": "code",
   "execution_count": 19,
   "metadata": {},
   "outputs": [
    {
     "data": {
      "text/html": [
       "<div>\n",
       "<style scoped>\n",
       "    .dataframe tbody tr th:only-of-type {\n",
       "        vertical-align: middle;\n",
       "    }\n",
       "\n",
       "    .dataframe tbody tr th {\n",
       "        vertical-align: top;\n",
       "    }\n",
       "\n",
       "    .dataframe thead th {\n",
       "        text-align: right;\n",
       "    }\n",
       "</style>\n",
       "<table border=\"1\" class=\"dataframe\">\n",
       "  <thead>\n",
       "    <tr style=\"text-align: right;\">\n",
       "      <th></th>\n",
       "      <th>id</th>\n",
       "      <th>date</th>\n",
       "      <th>user_id</th>\n",
       "      <th>duration</th>\n",
       "      <th>medium</th>\n",
       "      <th>source</th>\n",
       "      <th>cost</th>\n",
       "      <th>order_id</th>\n",
       "      <th>amount_paid</th>\n",
       "    </tr>\n",
       "  </thead>\n",
       "  <tbody>\n",
       "    <tr>\n",
       "      <th>0</th>\n",
       "      <td>40443</td>\n",
       "      <td>05.10.2016 23:18</td>\n",
       "      <td>1010</td>\n",
       "      <td>0.000926</td>\n",
       "      <td>seo</td>\n",
       "      <td>google</td>\n",
       "      <td>0.00</td>\n",
       "      <td>6243</td>\n",
       "      <td>20.2</td>\n",
       "    </tr>\n",
       "    <tr>\n",
       "      <th>1</th>\n",
       "      <td>35044</td>\n",
       "      <td>09.10.2016 21:40</td>\n",
       "      <td>1036</td>\n",
       "      <td>0.006493</td>\n",
       "      <td>sem</td>\n",
       "      <td>yandex</td>\n",
       "      <td>0.07</td>\n",
       "      <td>6145</td>\n",
       "      <td>15.6</td>\n",
       "    </tr>\n",
       "    <tr>\n",
       "      <th>2</th>\n",
       "      <td>40177</td>\n",
       "      <td>05.10.2016 3:23</td>\n",
       "      <td>1041</td>\n",
       "      <td>0.003380</td>\n",
       "      <td>email</td>\n",
       "      <td>promo</td>\n",
       "      <td>0.00</td>\n",
       "      <td>6128</td>\n",
       "      <td>13.2</td>\n",
       "    </tr>\n",
       "    <tr>\n",
       "      <th>3</th>\n",
       "      <td>39401</td>\n",
       "      <td>05.10.2016 23:19</td>\n",
       "      <td>1041</td>\n",
       "      <td>0.000463</td>\n",
       "      <td>sem</td>\n",
       "      <td>yandex</td>\n",
       "      <td>0.03</td>\n",
       "      <td>6697</td>\n",
       "      <td>9.8</td>\n",
       "    </tr>\n",
       "    <tr>\n",
       "      <th>4</th>\n",
       "      <td>41545</td>\n",
       "      <td>01.10.2016 4:57</td>\n",
       "      <td>1042</td>\n",
       "      <td>0.006493</td>\n",
       "      <td>sem</td>\n",
       "      <td>google</td>\n",
       "      <td>0.06</td>\n",
       "      <td>4510</td>\n",
       "      <td>14.8</td>\n",
       "    </tr>\n",
       "  </tbody>\n",
       "</table>\n",
       "</div>"
      ],
      "text/plain": [
       "      id              date  user_id  duration medium  source  cost  order_id  \\\n",
       "0  40443  05.10.2016 23:18     1010  0.000926    seo  google  0.00      6243   \n",
       "1  35044  09.10.2016 21:40     1036  0.006493    sem  yandex  0.07      6145   \n",
       "2  40177   05.10.2016 3:23     1041  0.003380  email   promo  0.00      6128   \n",
       "3  39401  05.10.2016 23:19     1041  0.000463    sem  yandex  0.03      6697   \n",
       "4  41545   01.10.2016 4:57     1042  0.006493    sem  google  0.06      4510   \n",
       "\n",
       "   amount_paid  \n",
       "0         20.2  \n",
       "1         15.6  \n",
       "2         13.2  \n",
       "3          9.8  \n",
       "4         14.8  "
      ]
     },
     "execution_count": 19,
     "metadata": {},
     "output_type": "execute_result"
    }
   ],
   "source": [
    "import pandas as pd\n",
    "data = pd.read_csv('https://raw.githubusercontent.com/dm-fedorov/pandas_basic/master/data/data.tsv', sep='\\t')\n",
    "data.head()"
   ]
  },
  {
   "cell_type": "code",
   "execution_count": 30,
   "metadata": {},
   "outputs": [],
   "source": [
    "def convert_to_datetime(row):\n",
    "    return datetime.strptime(row['date'], '%d.%m.%Y %H:%M')\n",
    "\n",
    "data['datetime'] = data.apply(convert_to_datetime, axis=1)\n"
   ]
  },
  {
   "cell_type": "code",
   "execution_count": 39,
   "metadata": {},
   "outputs": [
    {
     "data": {
      "text/html": [
       "<div>\n",
       "<style scoped>\n",
       "    .dataframe tbody tr th:only-of-type {\n",
       "        vertical-align: middle;\n",
       "    }\n",
       "\n",
       "    .dataframe tbody tr th {\n",
       "        vertical-align: top;\n",
       "    }\n",
       "\n",
       "    .dataframe thead th {\n",
       "        text-align: right;\n",
       "    }\n",
       "</style>\n",
       "<table border=\"1\" class=\"dataframe\">\n",
       "  <thead>\n",
       "    <tr style=\"text-align: right;\">\n",
       "      <th></th>\n",
       "      <th>id</th>\n",
       "      <th>date</th>\n",
       "      <th>user_id</th>\n",
       "      <th>duration</th>\n",
       "      <th>medium</th>\n",
       "      <th>source</th>\n",
       "      <th>cost</th>\n",
       "      <th>order_id</th>\n",
       "      <th>amount_paid</th>\n",
       "      <th>datetime</th>\n",
       "      <th>unixtime</th>\n",
       "      <th>diff</th>\n",
       "    </tr>\n",
       "  </thead>\n",
       "  <tbody>\n",
       "    <tr>\n",
       "      <th>0</th>\n",
       "      <td>40443</td>\n",
       "      <td>05.10.2016 23:18</td>\n",
       "      <td>1010</td>\n",
       "      <td>0.000926</td>\n",
       "      <td>seo</td>\n",
       "      <td>google</td>\n",
       "      <td>0.00</td>\n",
       "      <td>6243</td>\n",
       "      <td>20.2</td>\n",
       "      <td>2016-10-05 23:18:00</td>\n",
       "      <td>1.475691e+09</td>\n",
       "      <td>1.475691e+09</td>\n",
       "    </tr>\n",
       "    <tr>\n",
       "      <th>1</th>\n",
       "      <td>35044</td>\n",
       "      <td>09.10.2016 21:40</td>\n",
       "      <td>1036</td>\n",
       "      <td>0.006493</td>\n",
       "      <td>sem</td>\n",
       "      <td>yandex</td>\n",
       "      <td>0.07</td>\n",
       "      <td>6145</td>\n",
       "      <td>15.6</td>\n",
       "      <td>2016-10-09 21:40:00</td>\n",
       "      <td>1.476031e+09</td>\n",
       "      <td>1.476031e+09</td>\n",
       "    </tr>\n",
       "    <tr>\n",
       "      <th>2</th>\n",
       "      <td>40177</td>\n",
       "      <td>05.10.2016 3:23</td>\n",
       "      <td>1041</td>\n",
       "      <td>0.003380</td>\n",
       "      <td>email</td>\n",
       "      <td>promo</td>\n",
       "      <td>0.00</td>\n",
       "      <td>6128</td>\n",
       "      <td>13.2</td>\n",
       "      <td>2016-10-05 03:23:00</td>\n",
       "      <td>1.475620e+09</td>\n",
       "      <td>1.475620e+09</td>\n",
       "    </tr>\n",
       "    <tr>\n",
       "      <th>3</th>\n",
       "      <td>39401</td>\n",
       "      <td>05.10.2016 23:19</td>\n",
       "      <td>1041</td>\n",
       "      <td>0.000463</td>\n",
       "      <td>sem</td>\n",
       "      <td>yandex</td>\n",
       "      <td>0.03</td>\n",
       "      <td>6697</td>\n",
       "      <td>9.8</td>\n",
       "      <td>2016-10-05 23:19:00</td>\n",
       "      <td>1.475692e+09</td>\n",
       "      <td>1.475692e+09</td>\n",
       "    </tr>\n",
       "    <tr>\n",
       "      <th>4</th>\n",
       "      <td>41545</td>\n",
       "      <td>01.10.2016 4:57</td>\n",
       "      <td>1042</td>\n",
       "      <td>0.006493</td>\n",
       "      <td>sem</td>\n",
       "      <td>google</td>\n",
       "      <td>0.06</td>\n",
       "      <td>4510</td>\n",
       "      <td>14.8</td>\n",
       "      <td>2016-10-01 04:57:00</td>\n",
       "      <td>1.475280e+09</td>\n",
       "      <td>1.475280e+09</td>\n",
       "    </tr>\n",
       "  </tbody>\n",
       "</table>\n",
       "</div>"
      ],
      "text/plain": [
       "      id              date  user_id  duration medium  source  cost  order_id  \\\n",
       "0  40443  05.10.2016 23:18     1010  0.000926    seo  google  0.00      6243   \n",
       "1  35044  09.10.2016 21:40     1036  0.006493    sem  yandex  0.07      6145   \n",
       "2  40177   05.10.2016 3:23     1041  0.003380  email   promo  0.00      6128   \n",
       "3  39401  05.10.2016 23:19     1041  0.000463    sem  yandex  0.03      6697   \n",
       "4  41545   01.10.2016 4:57     1042  0.006493    sem  google  0.06      4510   \n",
       "\n",
       "   amount_paid            datetime      unixtime          diff  \n",
       "0         20.2 2016-10-05 23:18:00  1.475691e+09  1.475691e+09  \n",
       "1         15.6 2016-10-09 21:40:00  1.476031e+09  1.476031e+09  \n",
       "2         13.2 2016-10-05 03:23:00  1.475620e+09  1.475620e+09  \n",
       "3          9.8 2016-10-05 23:19:00  1.475692e+09  1.475692e+09  \n",
       "4         14.8 2016-10-01 04:57:00  1.475280e+09  1.475280e+09  "
      ]
     },
     "execution_count": 39,
     "metadata": {},
     "output_type": "execute_result"
    }
   ],
   "source": [
    "import time\n",
    "def make_unix_time(row):\n",
    "    return time.mktime(row['datetime'].timetuple())\n",
    "data['unixtime'] = data.apply(make_unix_time, axis=1)\n",
    "data.head()"
   ]
  },
  {
   "cell_type": "code",
   "execution_count": 40,
   "metadata": {},
   "outputs": [
    {
     "data": {
      "text/plain": [
       "1475278020.0"
      ]
     },
     "execution_count": 40,
     "metadata": {},
     "output_type": "execute_result"
    }
   ],
   "source": [
    "data.unixtime.max()\n",
    "data.unixtime.min()\n",
    "\n"
   ]
  }
 ],
 "metadata": {
  "kernelspec": {
   "display_name": "Python 3",
   "language": "python",
   "name": "python3"
  },
  "language_info": {
   "codemirror_mode": {
    "name": "ipython",
    "version": 3
   },
   "file_extension": ".py",
   "mimetype": "text/x-python",
   "name": "python",
   "nbconvert_exporter": "python",
   "pygments_lexer": "ipython3",
   "version": "3.7.6"
  }
 },
 "nbformat": 4,
 "nbformat_minor": 4
}
